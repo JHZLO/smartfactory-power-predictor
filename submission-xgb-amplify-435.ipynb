{
 "cells": [
  {
   "cell_type": "code",
   "execution_count": 1,
   "id": "da33b470",
   "metadata": {
    "_cell_guid": "b1076dfc-b9ad-4769-8c92-a6c4dae69d19",
    "_uuid": "8f2839f25d086af736a60e9eeb907d3b93b6e0e5",
    "execution": {
     "iopub.execute_input": "2025-05-31T15:00:59.305102Z",
     "iopub.status.busy": "2025-05-31T15:00:59.304597Z",
     "iopub.status.idle": "2025-05-31T15:01:02.031176Z",
     "shell.execute_reply": "2025-05-31T15:01:02.029525Z"
    },
    "papermill": {
     "duration": 2.740237,
     "end_time": "2025-05-31T15:01:02.033406",
     "exception": false,
     "start_time": "2025-05-31T15:00:59.293169",
     "status": "completed"
    },
    "tags": []
   },
   "outputs": [
    {
     "name": "stdout",
     "output_type": "stream",
     "text": [
      "/kaggle/input/dku-data-science/rtu_data_full.csv\n",
      "/kaggle/input/dku-data-science/submissionfile_sample.csv\n",
      "/kaggle/input/dku-data-science/train.csv\n",
      "/kaggle/input/dku-data-science/test.csv\n"
     ]
    }
   ],
   "source": [
    "# This Python 3 environment comes with many helpful analytics libraries installed\n",
    "# It is defined by the kaggle/python Docker image: https://github.com/kaggle/docker-python\n",
    "# For example, here's several helpful packages to load\n",
    "\n",
    "import numpy as np # linear algebra\n",
    "import pandas as pd # data processing, CSV file I/O (e.g. pd.read_csv)\n",
    "\n",
    "# Input data files are available in the read-only \"../input/\" directory\n",
    "# For example, running this (by clicking run or pressing Shift+Enter) will list all files under the input directory\n",
    "\n",
    "import os\n",
    "for dirname, _, filenames in os.walk('/kaggle/input'):\n",
    "    for filename in filenames:\n",
    "        print(os.path.join(dirname, filename))\n",
    "\n",
    "# You can write up to 20GB to the current directory (/kaggle/working/) that gets preserved as output when you create a version using \"Save & Run All\" \n",
    "# You can also write temporary files to /kaggle/temp/, but they won't be saved outside of the current session"
   ]
  },
  {
   "cell_type": "code",
   "execution_count": 2,
   "id": "61ffe077",
   "metadata": {
    "execution": {
     "iopub.execute_input": "2025-05-31T15:01:02.049454Z",
     "iopub.status.busy": "2025-05-31T15:01:02.048914Z",
     "iopub.status.idle": "2025-05-31T15:01:02.054012Z",
     "shell.execute_reply": "2025-05-31T15:01:02.052826Z"
    },
    "papermill": {
     "duration": 0.01532,
     "end_time": "2025-05-31T15:01:02.056070",
     "exception": false,
     "start_time": "2025-05-31T15:01:02.040750",
     "status": "completed"
    },
    "tags": []
   },
   "outputs": [],
   "source": [
    "# ! pip install holidays"
   ]
  },
  {
   "cell_type": "markdown",
   "id": "a6a88517",
   "metadata": {
    "papermill": {
     "duration": 0.00612,
     "end_time": "2025-05-31T15:01:02.069634",
     "exception": false,
     "start_time": "2025-05-31T15:01:02.063514",
     "status": "completed"
    },
    "tags": []
   },
   "source": [
    "# 0. 필요한 패키지 설치"
   ]
  },
  {
   "cell_type": "code",
   "execution_count": 3,
   "id": "d115ca53",
   "metadata": {
    "execution": {
     "iopub.execute_input": "2025-05-31T15:01:02.085086Z",
     "iopub.status.busy": "2025-05-31T15:01:02.084774Z",
     "iopub.status.idle": "2025-05-31T15:01:05.368680Z",
     "shell.execute_reply": "2025-05-31T15:01:05.367665Z"
    },
    "papermill": {
     "duration": 3.293929,
     "end_time": "2025-05-31T15:01:05.370893",
     "exception": false,
     "start_time": "2025-05-31T15:01:02.076964",
     "status": "completed"
    },
    "tags": []
   },
   "outputs": [],
   "source": [
    "import holidays\n",
    "from xgboost import XGBRegressor\n",
    "from sklearn.model_selection import TimeSeriesSplit\n",
    "from sklearn.metrics import mean_squared_error, mean_absolute_error\n",
    "import pandas as pd\n",
    "import numpy as np"
   ]
  },
  {
   "cell_type": "markdown",
   "id": "ba41914f",
   "metadata": {
    "papermill": {
     "duration": 0.005899,
     "end_time": "2025-05-31T15:01:05.383327",
     "exception": false,
     "start_time": "2025-05-31T15:01:05.377428",
     "status": "completed"
    },
    "tags": []
   },
   "source": [
    "# 1. 데이터 불러오기"
   ]
  },
  {
   "cell_type": "code",
   "execution_count": 4,
   "id": "7a5659fe",
   "metadata": {
    "execution": {
     "iopub.execute_input": "2025-05-31T15:01:05.397713Z",
     "iopub.status.busy": "2025-05-31T15:01:05.397029Z",
     "iopub.status.idle": "2025-05-31T15:04:16.762711Z",
     "shell.execute_reply": "2025-05-31T15:04:16.757964Z"
    },
    "papermill": {
     "duration": 191.387194,
     "end_time": "2025-05-31T15:04:16.776758",
     "exception": false,
     "start_time": "2025-05-31T15:01:05.389564",
     "status": "completed"
    },
    "tags": []
   },
   "outputs": [],
   "source": [
    "df_train = pd.read_csv('/kaggle/input/dku-data-science/rtu_data_full.csv')"
   ]
  },
  {
   "cell_type": "markdown",
   "id": "c55812c0",
   "metadata": {
    "papermill": {
     "duration": 0.019591,
     "end_time": "2025-05-31T15:04:16.824471",
     "exception": false,
     "start_time": "2025-05-31T15:04:16.804880",
     "status": "completed"
    },
    "tags": []
   },
   "source": [
    "# 2. 전처리"
   ]
  },
  {
   "cell_type": "code",
   "execution_count": 5,
   "id": "81097096",
   "metadata": {
    "execution": {
     "iopub.execute_input": "2025-05-31T15:04:16.864389Z",
     "iopub.status.busy": "2025-05-31T15:04:16.863613Z",
     "iopub.status.idle": "2025-05-31T15:06:38.423296Z",
     "shell.execute_reply": "2025-05-31T15:06:38.422081Z"
    },
    "papermill": {
     "duration": 141.5826,
     "end_time": "2025-05-31T15:06:38.425669",
     "exception": false,
     "start_time": "2025-05-31T15:04:16.843069",
     "status": "completed"
    },
    "tags": []
   },
   "outputs": [],
   "source": [
    "# datetime 컬럼 생성\n",
    "df_train['datetime'] = pd.to_datetime(df_train['localtime'], format='%Y%m%d%H%M%S')\n",
    "df_train.set_index('datetime', inplace=True)\n",
    "df_train = df_train.sort_index()"
   ]
  },
  {
   "cell_type": "code",
   "execution_count": 6,
   "id": "35855609",
   "metadata": {
    "execution": {
     "iopub.execute_input": "2025-05-31T15:06:38.441539Z",
     "iopub.status.busy": "2025-05-31T15:06:38.441138Z",
     "iopub.status.idle": "2025-05-31T15:06:44.280390Z",
     "shell.execute_reply": "2025-05-31T15:06:44.279224Z"
    },
    "papermill": {
     "duration": 5.849067,
     "end_time": "2025-05-31T15:06:44.282396",
     "exception": false,
     "start_time": "2025-05-31T15:06:38.433329",
     "status": "completed"
    },
    "tags": []
   },
   "outputs": [],
   "source": [
    "# 복제본 생성\n",
    "df = df_train.copy()"
   ]
  },
  {
   "cell_type": "code",
   "execution_count": 7,
   "id": "70a31aaf",
   "metadata": {
    "execution": {
     "iopub.execute_input": "2025-05-31T15:06:44.296440Z",
     "iopub.status.busy": "2025-05-31T15:06:44.296002Z",
     "iopub.status.idle": "2025-05-31T15:06:47.745408Z",
     "shell.execute_reply": "2025-05-31T15:06:47.741536Z"
    },
    "papermill": {
     "duration": 3.462182,
     "end_time": "2025-05-31T15:06:47.750869",
     "exception": false,
     "start_time": "2025-05-31T15:06:44.288687",
     "status": "completed"
    },
    "tags": []
   },
   "outputs": [],
   "source": [
    "# 3. 필요없는 컬럼 제거\n",
    "drop_cols = ['timestamp', 'operation']\n",
    "df = df.drop(columns=[col for col in drop_cols if col in df_train.columns])"
   ]
  },
  {
   "cell_type": "code",
   "execution_count": 8,
   "id": "78e16a72",
   "metadata": {
    "execution": {
     "iopub.execute_input": "2025-05-31T15:06:47.806282Z",
     "iopub.status.busy": "2025-05-31T15:06:47.804221Z",
     "iopub.status.idle": "2025-05-31T15:06:47.980693Z",
     "shell.execute_reply": "2025-05-31T15:06:47.976750Z"
    },
    "papermill": {
     "duration": 0.211819,
     "end_time": "2025-05-31T15:06:47.988551",
     "exception": false,
     "start_time": "2025-05-31T15:06:47.776732",
     "status": "completed"
    },
    "tags": []
   },
   "outputs": [],
   "source": [
    "# activePower → kWh 단위 변환\n",
    "# activePower: 5초 단위 측정이므로 kWh = activePower × (5 / 3600)\n",
    "df['activePower_kWh'] = df['activePower'] * (5 / 3600)"
   ]
  },
  {
   "cell_type": "markdown",
   "id": "4c40d5f1",
   "metadata": {
    "papermill": {
     "duration": 0.022754,
     "end_time": "2025-05-31T15:06:48.025864",
     "exception": false,
     "start_time": "2025-05-31T15:06:48.003110",
     "status": "completed"
    },
    "tags": []
   },
   "source": [
    "# 3. 파생변수 생성"
   ]
  },
  {
   "cell_type": "markdown",
   "id": "3387582f",
   "metadata": {
    "papermill": {
     "duration": 0.017153,
     "end_time": "2025-05-31T15:06:48.066100",
     "exception": false,
     "start_time": "2025-05-31T15:06:48.048947",
     "status": "completed"
    },
    "tags": []
   },
   "source": [
    "## 3-1. 전기적 이상 탐지 지표 파생변수"
   ]
  },
  {
   "cell_type": "code",
   "execution_count": 9,
   "id": "e5f63142",
   "metadata": {
    "execution": {
     "iopub.execute_input": "2025-05-31T15:06:48.081367Z",
     "iopub.status.busy": "2025-05-31T15:06:48.080977Z",
     "iopub.status.idle": "2025-05-31T15:07:42.539492Z",
     "shell.execute_reply": "2025-05-31T15:07:42.538441Z"
    },
    "papermill": {
     "duration": 54.468972,
     "end_time": "2025-05-31T15:07:42.542131",
     "exception": false,
     "start_time": "2025-05-31T15:06:48.073159",
     "status": "completed"
    },
    "tags": []
   },
   "outputs": [],
   "source": [
    "# 평균 전압 / 전류\n",
    "df['voltage_avg'] = df[['voltageR', 'voltageS', 'voltageT']].mean(axis=1)\n",
    "df['current_avg'] = df[['currentR', 'currentS', 'currentT']].mean(axis=1)\n",
    "\n",
    "# 최대-최소 차이 (부하 불균형)\n",
    "df['voltage_diff'] = df[['voltageR', 'voltageS', 'voltageT']].max(axis=1) - df[['voltageR', 'voltageS', 'voltageT']].min(axis=1)\n",
    "df['current_diff'] = df[['currentR', 'currentS', 'currentT']].max(axis=1) - df[['currentR', 'currentS', 'currentT']].min(axis=1)\n",
    "\n",
    "# 표준편차 (급변성 탐지)\n",
    "df['voltage_std'] = df[['voltageR', 'voltageS', 'voltageT']].std(axis=1)\n",
    "df['current_std'] = df[['currentR', 'currentS', 'currentT']].std(axis=1)\n",
    "\n",
    "# 전압/전류 급변 플래그 (5초 전 대비 변화량 기준)\n",
    "df['voltage_spike'] = ((df['voltage_avg'].pct_change().abs()) > 0.05).astype(int)\n",
    "df['current_spike'] = (df['current_avg'].diff().abs() > 1.0).astype(int)  # 예: 1A 이상 급변\n",
    "\n",
    "# 역률 급변 플래그\n",
    "df['pf_avg'] = df[['powerFactorR', 'powerFactorS', 'powerFactorT']].mean(axis=1)\n",
    "df['pf_spike'] = (df['pf_avg'].diff().abs() > 0.02).astype(int)  # 2% 이상 급변이면 이상"
   ]
  },
  {
   "cell_type": "code",
   "execution_count": 10,
   "id": "e1355211",
   "metadata": {
    "execution": {
     "iopub.execute_input": "2025-05-31T15:07:42.557006Z",
     "iopub.status.busy": "2025-05-31T15:07:42.556647Z",
     "iopub.status.idle": "2025-05-31T15:08:03.965830Z",
     "shell.execute_reply": "2025-05-31T15:08:03.964669Z"
    },
    "papermill": {
     "duration": 21.418983,
     "end_time": "2025-05-31T15:08:03.968098",
     "exception": false,
     "start_time": "2025-05-31T15:07:42.549115",
     "status": "completed"
    },
    "tags": []
   },
   "outputs": [
    {
     "name": "stderr",
     "output_type": "stream",
     "text": [
      "/tmp/ipykernel_13/1003214175.py:1: FutureWarning: 'H' is deprecated and will be removed in a future version, please use 'h' instead.\n",
      "  df_hourly = df.resample('H').agg({\n"
     ]
    }
   ],
   "source": [
    "df_hourly = df.resample('H').agg({\n",
    "    'activePower_kWh' : 'sum',\n",
    "    'voltage_avg': 'mean',\n",
    "    'current_avg': 'mean',\n",
    "    'voltage_diff': 'mean',\n",
    "    'current_diff': 'mean',\n",
    "    'voltage_std': 'mean',\n",
    "    'current_std': 'mean',\n",
    "    'voltage_spike': 'sum',  # 해당 시간 동안 급변 횟수\n",
    "    'current_spike': 'sum',\n",
    "    'pf_spike': 'sum'\n",
    "}).dropna()"
   ]
  },
  {
   "cell_type": "markdown",
   "id": "d5a522d2",
   "metadata": {
    "papermill": {
     "duration": 0.005817,
     "end_time": "2025-05-31T15:08:03.980782",
     "exception": false,
     "start_time": "2025-05-31T15:08:03.974965",
     "status": "completed"
    },
    "tags": []
   },
   "source": [
    "## 3-2. 시간 공휴일 및 비 영업일 파생변수 생성"
   ]
  },
  {
   "cell_type": "code",
   "execution_count": 11,
   "id": "e49cf2b2",
   "metadata": {
    "execution": {
     "iopub.execute_input": "2025-05-31T15:08:03.994525Z",
     "iopub.status.busy": "2025-05-31T15:08:03.994138Z",
     "iopub.status.idle": "2025-05-31T15:08:04.602049Z",
     "shell.execute_reply": "2025-05-31T15:08:04.600910Z"
    },
    "papermill": {
     "duration": 0.617544,
     "end_time": "2025-05-31T15:08:04.604367",
     "exception": false,
     "start_time": "2025-05-31T15:08:03.986823",
     "status": "completed"
    },
    "tags": []
   },
   "outputs": [],
   "source": [
    "import holidays\n",
    "# 시간 파생 변수 추가\n",
    "# 🇰🇷 한국 공휴일 객체 생성 (예: 2024, 2025 포함)\n",
    "kr_holidays = holidays.KR(years=[2024, 2025])\n",
    "\n",
    "df_hourly['hour'] = df_hourly.index.hour\n",
    "df_hourly['weekday'] = df_hourly.index.weekday\n",
    "df_hourly['is_weekend'] = (df_hourly['weekday'] >= 5).astype(int)\n",
    "df_hourly['is_night'] = ((df_hourly['hour'] < 6) | (df_hourly['hour'] >= 22)).astype(int)\n",
    "df_hourly['hour_sin'] = np.sin(2 * np.pi * df_hourly['hour'] / 24)\n",
    "df_hourly['hour_cos'] = np.cos(2 * np.pi * df_hourly['hour'] / 24)\n",
    "df_hourly['is_holiday'] = df_hourly.index.to_series().apply(lambda x: 1 if x.date() in kr_holidays else 0)\n",
    "df_hourly['is_weekend_or_holiday'] = ((df_hourly['is_weekend'] == 1) | (df_hourly['is_holiday'] == 1)).astype(int)"
   ]
  },
  {
   "cell_type": "markdown",
   "id": "da5e12ca",
   "metadata": {
    "papermill": {
     "duration": 0.006272,
     "end_time": "2025-05-31T15:08:04.617611",
     "exception": false,
     "start_time": "2025-05-31T15:08:04.611339",
     "status": "completed"
    },
    "tags": []
   },
   "source": [
    "## 3-3. 계절 파생변수 생성"
   ]
  },
  {
   "cell_type": "code",
   "execution_count": 12,
   "id": "385e9f8d",
   "metadata": {
    "execution": {
     "iopub.execute_input": "2025-05-31T15:08:04.633174Z",
     "iopub.status.busy": "2025-05-31T15:08:04.632349Z",
     "iopub.status.idle": "2025-05-31T15:08:04.654838Z",
     "shell.execute_reply": "2025-05-31T15:08:04.653783Z"
    },
    "papermill": {
     "duration": 0.032349,
     "end_time": "2025-05-31T15:08:04.657077",
     "exception": false,
     "start_time": "2025-05-31T15:08:04.624728",
     "status": "completed"
    },
    "tags": []
   },
   "outputs": [],
   "source": [
    "# 월 추출\n",
    "df_hourly['month'] = df_hourly.index.month\n",
    "\n",
    "# 계절 라벨 함수 정의\n",
    "def get_season(month):\n",
    "    if month in [3, 4, 5]:\n",
    "        return 'spring'\n",
    "    elif month in [6, 7, 8]:\n",
    "        return 'summer'\n",
    "    elif month in [9, 10, 11]:\n",
    "        return 'autumn'\n",
    "    else:\n",
    "        return 'winter'\n",
    "\n",
    "# 계절 컬럼 생성\n",
    "df_hourly['season'] = df_hourly['month'].apply(get_season)\n",
    "\n",
    "# One-Hot 인코딩\n",
    "season_dummies = pd.get_dummies(df_hourly['season'], prefix='season')\n",
    "\n",
    "# 실제 데이터에 존재하는 계절만 포함 (불필요한 all-zero 컬럼 제거)\n",
    "season_cols = [col for col in season_dummies.columns if season_dummies[col].sum() > 0]\n",
    "df_hourly = pd.concat([df_hourly, season_dummies[season_cols]], axis=1)"
   ]
  },
  {
   "cell_type": "markdown",
   "id": "41f08f0f",
   "metadata": {
    "papermill": {
     "duration": 0.006201,
     "end_time": "2025-05-31T15:08:04.669996",
     "exception": false,
     "start_time": "2025-05-31T15:08:04.663795",
     "status": "completed"
    },
    "tags": []
   },
   "source": [
    "# 4. 학습에 사용할 최종 Feature Set"
   ]
  },
  {
   "cell_type": "code",
   "execution_count": 13,
   "id": "d7b112fb",
   "metadata": {
    "execution": {
     "iopub.execute_input": "2025-05-31T15:08:04.684652Z",
     "iopub.status.busy": "2025-05-31T15:08:04.684208Z",
     "iopub.status.idle": "2025-05-31T15:08:04.689427Z",
     "shell.execute_reply": "2025-05-31T15:08:04.688331Z"
    },
    "papermill": {
     "duration": 0.014759,
     "end_time": "2025-05-31T15:08:04.691148",
     "exception": false,
     "start_time": "2025-05-31T15:08:04.676389",
     "status": "completed"
    },
    "tags": []
   },
   "outputs": [],
   "source": [
    "# 학습/예측에 사용할 최종 Feature Set\n",
    "feature_cols = [\n",
    "    'voltage_avg', 'current_avg',\n",
    "    'voltage_diff', \n",
    "    'current_diff',\n",
    "    'voltage_std', 'current_std','voltage_spike', \n",
    "    'current_spike',\n",
    "    'pf_spike',\n",
    "    'hour', 'weekday', \n",
    "    'hour_sin',\n",
    "    'hour_cos', \n",
    "    'is_weekend_or_holiday',\n",
    "    'season_spring'\n",
    "]"
   ]
  },
  {
   "cell_type": "code",
   "execution_count": 14,
   "id": "0f3be699",
   "metadata": {
    "execution": {
     "iopub.execute_input": "2025-05-31T15:08:04.705684Z",
     "iopub.status.busy": "2025-05-31T15:08:04.705299Z",
     "iopub.status.idle": "2025-05-31T15:08:04.716193Z",
     "shell.execute_reply": "2025-05-31T15:08:04.714982Z"
    },
    "papermill": {
     "duration": 0.020132,
     "end_time": "2025-05-31T15:08:04.718048",
     "exception": false,
     "start_time": "2025-05-31T15:08:04.697916",
     "status": "completed"
    },
    "tags": []
   },
   "outputs": [
    {
     "data": {
      "text/plain": [
       "['voltage_avg',\n",
       " 'current_avg',\n",
       " 'voltage_diff',\n",
       " 'current_diff',\n",
       " 'voltage_std',\n",
       " 'current_std',\n",
       " 'voltage_spike',\n",
       " 'current_spike',\n",
       " 'pf_spike',\n",
       " 'hour',\n",
       " 'weekday',\n",
       " 'hour_sin',\n",
       " 'hour_cos',\n",
       " 'is_weekend_or_holiday',\n",
       " 'season_spring']"
      ]
     },
     "execution_count": 14,
     "metadata": {},
     "output_type": "execute_result"
    }
   ],
   "source": [
    "feature_cols"
   ]
  },
  {
   "cell_type": "markdown",
   "id": "3682ad14",
   "metadata": {
    "papermill": {
     "duration": 0.006111,
     "end_time": "2025-05-31T15:08:04.731652",
     "exception": false,
     "start_time": "2025-05-31T15:08:04.725541",
     "status": "completed"
    },
    "tags": []
   },
   "source": [
    "# 5. 모델 학습 및 검증"
   ]
  },
  {
   "cell_type": "code",
   "execution_count": 15,
   "id": "04c66227",
   "metadata": {
    "execution": {
     "iopub.execute_input": "2025-05-31T15:08:04.746023Z",
     "iopub.status.busy": "2025-05-31T15:08:04.745668Z",
     "iopub.status.idle": "2025-05-31T15:08:05.015879Z",
     "shell.execute_reply": "2025-05-31T15:08:05.015077Z"
    },
    "papermill": {
     "duration": 0.279961,
     "end_time": "2025-05-31T15:08:05.017742",
     "exception": false,
     "start_time": "2025-05-31T15:08:04.737781",
     "status": "completed"
    },
    "tags": []
   },
   "outputs": [
    {
     "name": "stdout",
     "output_type": "stream",
     "text": [
      "\n",
      " 4월 검증 성능:\n",
      "RMSE: 99.24\n",
      "MAE:  80.39\n"
     ]
    }
   ],
   "source": [
    "# 전체 학습 데이터 (12~3월)\n",
    "train_df = df_hourly[df_hourly.index <= '2025-03-31'].copy()\n",
    "\n",
    "X_all = train_df[feature_cols].copy()\n",
    "y_all = train_df['activePower_kWh'].shift(-1)\n",
    "valid_index = X_all.index.intersection(y_all.dropna().index)\n",
    "X_all = X_all.loc[valid_index]\n",
    "y_all = y_all.loc[valid_index]\n",
    "\n",
    "# 3월까지 전체로 모델 학습\n",
    "model = XGBRegressor(n_estimators=100, max_depth=4, learning_rate=0.1, subsample=0.8, random_state=42)\n",
    "model.fit(X_all, y_all)\n",
    "\n",
    "# 4월 데이터로 검증\n",
    "val_df = df_hourly[(df_hourly.index >= '2025-04-01') & (df_hourly.index <= '2025-04-29')].copy()\n",
    "X_val = val_df[feature_cols].copy()\n",
    "y_val = val_df['activePower_kWh'].shift(-1)\n",
    "\n",
    "valid_val_idx = X_val.index.intersection(y_val.dropna().index)\n",
    "X_val = X_val.loc[valid_val_idx]\n",
    "y_val = y_val.loc[valid_val_idx]\n",
    "\n",
    "val_preds = model.predict(X_val)\n",
    "\n",
    "# 성능 평가\n",
    "rmse = mean_squared_error(y_val, val_preds, squared=False)\n",
    "mae = mean_absolute_error(y_val, val_preds)\n",
    "\n",
    "print(\"\\n 4월 검증 성능:\")\n",
    "print(f\"RMSE: {rmse:.2f}\")\n",
    "print(f\"MAE:  {mae:.2f}\")"
   ]
  },
  {
   "cell_type": "markdown",
   "id": "84354fdf",
   "metadata": {
    "papermill": {
     "duration": 0.005957,
     "end_time": "2025-05-31T15:08:05.029804",
     "exception": false,
     "start_time": "2025-05-31T15:08:05.023847",
     "status": "completed"
    },
    "tags": []
   },
   "source": [
    "# 6. 예측 입력 생성 및 미래 전력 소비량 예측"
   ]
  },
  {
   "cell_type": "code",
   "execution_count": 16,
   "id": "9c4af62d",
   "metadata": {
    "execution": {
     "iopub.execute_input": "2025-05-31T15:08:05.043434Z",
     "iopub.status.busy": "2025-05-31T15:08:05.043099Z",
     "iopub.status.idle": "2025-05-31T15:08:05.076666Z",
     "shell.execute_reply": "2025-05-31T15:08:05.074127Z"
    },
    "papermill": {
     "duration": 0.042445,
     "end_time": "2025-05-31T15:08:05.078395",
     "exception": false,
     "start_time": "2025-05-31T15:08:05.035950",
     "status": "completed"
    },
    "tags": []
   },
   "outputs": [
    {
     "name": "stderr",
     "output_type": "stream",
     "text": [
      "/tmp/ipykernel_13/3512398495.py:3: FutureWarning: 'H' is deprecated and will be removed in a future version, please use 'h' instead.\n",
      "  future['datetime'] = pd.date_range(\"2025-05-01\", \"2025-05-28 23:00:00\", freq='H')\n"
     ]
    }
   ],
   "source": [
    "# 1. 예측용 시간 생성\n",
    "future = pd.DataFrame()\n",
    "future['datetime'] = pd.date_range(\"2025-05-01\", \"2025-05-28 23:00:00\", freq='H')\n",
    "future.set_index('datetime', inplace=True)\n",
    "\n",
    "# 시간 파생 변수 추가\n",
    "# 🇰🇷 한국 공휴일 객체 생성 (예: 2024, 2025 포함)\n",
    "kr_holidays = holidays.KR(years=[2024, 2025])\n",
    "\n",
    "# 올바른 시간 파생 변수 계산 (future 자체 기준)\n",
    "future['hour'] = future.index.hour\n",
    "future['weekday'] = future.index.weekday\n",
    "future['is_weekend'] = (future['weekday'] >= 5).astype(int)\n",
    "future['is_night'] = ((future['hour'] < 6) | (future['hour'] >= 22)).astype(int)\n",
    "future['hour_sin'] = np.sin(2 * np.pi * future['hour'] / 24)\n",
    "future['hour_cos'] = np.cos(2 * np.pi * future['hour'] / 24)\n",
    "future['is_holiday'] = future.index.to_series().apply(lambda x: int(x.date() in kr_holidays))\n",
    "future['is_weekend_or_holiday'] = ((future['is_weekend'] == 1) | (future['is_holiday'] == 1)).astype(int)\n",
    "\n",
    "# 3. 센서 기반 변수 평균값으로 채우기\n",
    "sensor_cols = [\n",
    "    'voltage_avg', 'current_avg',\n",
    "    'voltage_diff', \n",
    "    'current_diff',\n",
    "    'voltage_std', 'current_std',\n",
    "    'voltage_spike',\n",
    "    'current_spike', \n",
    "    'pf_spike'\n",
    "]\n",
    "for col in sensor_cols:\n",
    "    future[col] = df_hourly[col].mean()  # 단, 시간에 따라 변화하지 않는 센서 평균\n",
    "\n",
    "for season in ['season_spring', 'season_winter']:\n",
    "    if season not in future.columns:\n",
    "        future[season] = 0  # 또는 다른 기본값\n",
    "\n",
    "# 4. feature 추출 및 예측\n",
    "X_future = future[feature_cols]  # 기존 학습에 사용한 컬럼 순서 그대로\n",
    "future_preds = model.predict(X_future)\n",
    "future['predicted_kWh'] = future_preds"
   ]
  },
  {
   "cell_type": "markdown",
   "id": "9b861178",
   "metadata": {
    "papermill": {
     "duration": 0.006563,
     "end_time": "2025-05-31T15:08:05.091360",
     "exception": false,
     "start_time": "2025-05-31T15:08:05.084797",
     "status": "completed"
    },
    "tags": []
   },
   "source": [
    "# 7. 예측값에 대한 최종 후처리"
   ]
  },
  {
   "cell_type": "code",
   "execution_count": 17,
   "id": "04767798",
   "metadata": {
    "execution": {
     "iopub.execute_input": "2025-05-31T15:08:05.106430Z",
     "iopub.status.busy": "2025-05-31T15:08:05.105971Z",
     "iopub.status.idle": "2025-05-31T15:08:05.114314Z",
     "shell.execute_reply": "2025-05-31T15:08:05.113314Z"
    },
    "papermill": {
     "duration": 0.01837,
     "end_time": "2025-05-31T15:08:05.116108",
     "exception": false,
     "start_time": "2025-05-31T15:08:05.097738",
     "status": "completed"
    },
    "tags": []
   },
   "outputs": [
    {
     "name": "stdout",
     "output_type": "stream",
     "text": [
      "보정된 총 예측 전력량: 26256560.0\n"
     ]
    }
   ],
   "source": [
    "# 2. 추가 스케일 보정 (최종 tuning)\n",
    "final_scale = 0.99848857\n",
    "future['predicted_kWh_corrected'] = future['predicted_kWh'] * final_scale\n",
    "\n",
    "# 합계 확인\n",
    "print(\"보정된 총 예측 전력량:\", future['predicted_kWh_corrected'].sum())"
   ]
  },
  {
   "cell_type": "code",
   "execution_count": 18,
   "id": "82eb33cf",
   "metadata": {
    "execution": {
     "iopub.execute_input": "2025-05-31T15:08:05.132372Z",
     "iopub.status.busy": "2025-05-31T15:08:05.131146Z",
     "iopub.status.idle": "2025-05-31T15:08:05.146137Z",
     "shell.execute_reply": "2025-05-31T15:08:05.144970Z"
    },
    "papermill": {
     "duration": 0.024653,
     "end_time": "2025-05-31T15:08:05.148013",
     "exception": false,
     "start_time": "2025-05-31T15:08:05.123360",
     "status": "completed"
    },
    "tags": []
   },
   "outputs": [
    {
     "name": "stdout",
     "output_type": "stream",
     "text": [
      "IQR 기반 최소값(Q1 - 0.5×IQR): 39003.50\n",
      "IQR 기반 최대값(Q3 + 0.5×IQR): 39256.38\n"
     ]
    }
   ],
   "source": [
    "# 12월 ~ 4월의 데이터 중 실제 예측 대상 변수 기준\n",
    "train_val_df = df_hourly[(df_hourly.index >= '2024-12-01') & (df_hourly.index <= '2025-04-29')]\n",
    "target_col = 'activePower_kWh'\n",
    "\n",
    "# IQR 계산\n",
    "Q1 = train_val_df[target_col].quantile(0.25)\n",
    "Q3 = train_val_df[target_col].quantile(0.75)\n",
    "IQR = Q3 - Q1\n",
    "\n",
    "# IQR 범위 기반 하한/상한 설정\n",
    "actual_min = Q1 - 0.5 * IQR\n",
    "actual_max = Q3 + 0.5 * IQR\n",
    "\n",
    "print(f\"IQR 기반 최소값(Q1 - 0.5×IQR): {actual_min:.2f}\")\n",
    "print(f\"IQR 기반 최대값(Q3 + 0.5×IQR): {actual_max:.2f}\")"
   ]
  },
  {
   "cell_type": "code",
   "execution_count": 19,
   "id": "26c3c78d",
   "metadata": {
    "execution": {
     "iopub.execute_input": "2025-05-31T15:08:05.163582Z",
     "iopub.status.busy": "2025-05-31T15:08:05.163147Z",
     "iopub.status.idle": "2025-05-31T15:08:05.375432Z",
     "shell.execute_reply": "2025-05-31T15:08:05.374189Z"
    },
    "papermill": {
     "duration": 0.222472,
     "end_time": "2025-05-31T15:08:05.377118",
     "exception": false,
     "start_time": "2025-05-31T15:08:05.154646",
     "status": "completed"
    },
    "tags": []
   },
   "outputs": [
    {
     "name": "stdout",
     "output_type": "stream",
     "text": [
      "최적 진폭 확대 계수: 4.35 (std: 32.12)\n"
     ]
    }
   ],
   "source": [
    "best_score = float('-inf')\n",
    "best_amplify = None\n",
    "agg_pow_target = future['predicted_kWh_corrected'].sum()\n",
    "\n",
    "for a in np.arange(1.0, 20.1, 0.05):  # 진폭 확대 비율을 1.0 ~ 20.1 사이에서 0.05 단위로 탐색\n",
    "    center = future['predicted_kWh_corrected'].rolling(window=24, center=True, min_periods=1).mean()\n",
    "    amplified = center + (future['predicted_kWh_corrected'] - center) * a\n",
    "    scaled_amplified = amplified * (agg_pow_target / amplified.sum())\n",
    "\n",
    "    # 조건 1: 최소/최대값 범위를 넘지 않아야 함\n",
    "    if scaled_amplified.min() >= actual_min and scaled_amplified.max() <= actual_max:\n",
    "        # 예시 점수: 표준편차(진폭)로 평가 → 높을수록 좋음\n",
    "        score = scaled_amplified.std()\n",
    "\n",
    "        if score > best_score:\n",
    "            best_score = score\n",
    "            best_amplify = a\n",
    "\n",
    "print(f\"최적 진폭 확대 계수: {best_amplify:.2f} (std: {best_score:.2f})\")"
   ]
  },
  {
   "cell_type": "code",
   "execution_count": 20,
   "id": "955b2562",
   "metadata": {
    "execution": {
     "iopub.execute_input": "2025-05-31T15:08:05.391752Z",
     "iopub.status.busy": "2025-05-31T15:08:05.391433Z",
     "iopub.status.idle": "2025-05-31T15:08:05.975989Z",
     "shell.execute_reply": "2025-05-31T15:08:05.974645Z"
    },
    "papermill": {
     "duration": 0.59412,
     "end_time": "2025-05-31T15:08:05.978012",
     "exception": false,
     "start_time": "2025-05-31T15:08:05.383892",
     "status": "completed"
    },
    "tags": []
   },
   "outputs": [
    {
     "data": {
      "image/png": "[encoded data removed]",
      "text/plain": [
       "<Figure size 1000x500 with 1 Axes>"
      ]
     },
     "metadata": {},
     "output_type": "display_data"
    }
   ],
   "source": [
    "import matplotlib.pyplot as plt\n",
    "\n",
    "ratios = np.arange(1.0, 12.5, 0.05)\n",
    "std_list = []\n",
    "valid_ratios = []\n",
    "\n",
    "for a in ratios:\n",
    "    center = future['predicted_kWh_corrected'].rolling(window=24, center=True, min_periods=1).mean()\n",
    "    amplified = center + (future['predicted_kWh_corrected'] - center) * a\n",
    "    scaled_amplified = amplified * (agg_pow_target / amplified.sum())\n",
    "\n",
    "    if scaled_amplified.min() >= actual_min and scaled_amplified.max() <= actual_max:\n",
    "        std_list.append(scaled_amplified.std())\n",
    "        valid_ratios.append(a)\n",
    "\n",
    "plt.figure(figsize=(10, 5))\n",
    "plt.plot(valid_ratios, std_list, marker='o')\n",
    "plt.title(\"Standard Deviation vs Amplitude Scaling Factor\")\n",
    "plt.xlabel(\"Amplitude Scaling Factor (a)\")\n",
    "plt.ylabel(\"Standard Deviation of Adjusted Predictions\")\n",
    "plt.grid(True)\n",
    "plt.axvline(x=best_amplify, color='red', linestyle='--', label=f\"Optimal Factor: {best_amplify:.2f}\")\n",
    "plt.legend()\n",
    "plt.show()"
   ]
  },
  {
   "cell_type": "code",
   "execution_count": 21,
   "id": "4a15d86f",
   "metadata": {
    "execution": {
     "iopub.execute_input": "2025-05-31T15:08:05.999101Z",
     "iopub.status.busy": "2025-05-31T15:08:05.998777Z",
     "iopub.status.idle": "2025-05-31T15:08:06.008223Z",
     "shell.execute_reply": "2025-05-31T15:08:06.006892Z"
    },
    "papermill": {
     "duration": 0.023338,
     "end_time": "2025-05-31T15:08:06.010809",
     "exception": false,
     "start_time": "2025-05-31T15:08:05.987471",
     "status": "completed"
    },
    "tags": []
   },
   "outputs": [],
   "source": [
    "# 위에서 찾은 best_amplify로 결과 생성\n",
    "center = future['predicted_kWh_corrected'].rolling(window=24, center=True, min_periods=1).mean()\n",
    "amplified = center + (future['predicted_kWh_corrected'] - center) * best_amplify\n",
    "final = amplified * (agg_pow_target / amplified.sum())\n",
    "\n",
    "future['predicted_kWh_final'] = final"
   ]
  },
  {
   "cell_type": "markdown",
   "id": "cc607bd5",
   "metadata": {
    "papermill": {
     "duration": 0.007603,
     "end_time": "2025-05-31T15:08:06.026507",
     "exception": false,
     "start_time": "2025-05-31T15:08:06.018904",
     "status": "completed"
    },
    "tags": []
   },
   "source": [
    "# 8. 예측 결과 정리 및 제출 파일 생성\n",
    "- 최종 예측값을 기반으로 전체 소비량, 요금, 탄소 배출량 계산\n",
    "- 제출 양식에 맞춰 결과 구성 및 submission.csv 파일로 저장"
   ]
  },
  {
   "cell_type": "code",
   "execution_count": 22,
   "id": "5e2955aa",
   "metadata": {
    "execution": {
     "iopub.execute_input": "2025-05-31T15:08:06.046565Z",
     "iopub.status.busy": "2025-05-31T15:08:06.045096Z",
     "iopub.status.idle": "2025-05-31T15:08:06.091501Z",
     "shell.execute_reply": "2025-05-31T15:08:06.090063Z"
    },
    "papermill": {
     "duration": 0.057734,
     "end_time": "2025-05-31T15:08:06.093512",
     "exception": false,
     "start_time": "2025-05-31T15:08:06.035778",
     "status": "completed"
    },
    "tags": []
   },
   "outputs": [
    {
     "name": "stdout",
     "output_type": "stream",
     "text": [
      "submission_xgb_amplify_435.csv 저장 완료\n"
     ]
    }
   ],
   "source": [
    "# 전체 예측량 및 변환 지표\n",
    "agg_pow = future['predicted_kWh_final'].sum()\n",
    "may_bill = agg_pow * 180\n",
    "may_carbon = agg_pow * 0.424\n",
    "\n",
    "submission = pd.read_csv(\"/kaggle/input/dku-data-science/submissionfile_sample.csv\")\n",
    "\n",
    "# ID 컬럼 생성\n",
    "future['id'] = future.index.strftime('%Y-%m-%d %H:%M:%S')\n",
    "\n",
    "# 제출 파일 구성\n",
    "submission = pd.DataFrame()\n",
    "submission['id'] = future['id']\n",
    "submission['hourly_pow'] = future['predicted_kWh_final']\n",
    "submission['agg_pow'] = agg_pow\n",
    "submission['may_bill'] = may_bill\n",
    "submission['may_carbon'] = may_carbon\n",
    "\n",
    "# CSV 저장\n",
    "submission.to_csv('submission_xgb_amplify_435.csv', index=False, float_format=\"%.6f\")\n",
    "print(\"submission_xgb_amplify_435.csv 저장 완료\")"
   ]
  },
  {
   "cell_type": "markdown",
   "id": "c211c4ec",
   "metadata": {
    "papermill": {
     "duration": 0.007776,
     "end_time": "2025-05-31T15:08:06.109881",
     "exception": false,
     "start_time": "2025-05-31T15:08:06.102105",
     "status": "completed"
    },
    "tags": []
   },
   "source": [
    "### submission 확인"
   ]
  },
  {
   "cell_type": "code",
   "execution_count": 23,
   "id": "c35333c3",
   "metadata": {
    "execution": {
     "iopub.execute_input": "2025-05-31T15:08:06.346816Z",
     "iopub.status.busy": "2025-05-31T15:08:06.345909Z",
     "iopub.status.idle": "2025-05-31T15:08:06.376760Z",
     "shell.execute_reply": "2025-05-31T15:08:06.375587Z"
    },
    "papermill": {
     "duration": 0.260831,
     "end_time": "2025-05-31T15:08:06.378586",
     "exception": false,
     "start_time": "2025-05-31T15:08:06.117755",
     "status": "completed"
    },
    "tags": []
   },
   "outputs": [
    {
     "data": {
      "text/html": [
       "<div>\n",
       "<style scoped>\n",
       "    .dataframe tbody tr th:only-of-type {\n",
       "        vertical-align: middle;\n",
       "    }\n",
       "\n",
       "    .dataframe tbody tr th {\n",
       "        vertical-align: top;\n",
       "    }\n",
       "\n",
       "    .dataframe thead th {\n",
       "        text-align: right;\n",
       "    }\n",
       "</style>\n",
       "<table border=\"1\" class=\"dataframe\">\n",
       "  <thead>\n",
       "    <tr style=\"text-align: right;\">\n",
       "      <th></th>\n",
       "      <th>id</th>\n",
       "      <th>hourly_pow</th>\n",
       "      <th>agg_pow</th>\n",
       "      <th>may_bill</th>\n",
       "      <th>may_carbon</th>\n",
       "    </tr>\n",
       "    <tr>\n",
       "      <th>datetime</th>\n",
       "      <th></th>\n",
       "      <th></th>\n",
       "      <th></th>\n",
       "      <th></th>\n",
       "      <th></th>\n",
       "    </tr>\n",
       "  </thead>\n",
       "  <tbody>\n",
       "    <tr>\n",
       "      <th>2025-05-01 00:00:00</th>\n",
       "      <td>2025-05-01 00:00:00</td>\n",
       "      <td>39011.850481</td>\n",
       "      <td>26256560.0</td>\n",
       "      <td>4.726181e+09</td>\n",
       "      <td>11132781.44</td>\n",
       "    </tr>\n",
       "    <tr>\n",
       "      <th>2025-05-01 01:00:00</th>\n",
       "      <td>2025-05-01 01:00:00</td>\n",
       "      <td>39011.484158</td>\n",
       "      <td>26256560.0</td>\n",
       "      <td>4.726181e+09</td>\n",
       "      <td>11132781.44</td>\n",
       "    </tr>\n",
       "    <tr>\n",
       "      <th>2025-05-01 02:00:00</th>\n",
       "      <td>2025-05-01 02:00:00</td>\n",
       "      <td>39011.170167</td>\n",
       "      <td>26256560.0</td>\n",
       "      <td>4.726181e+09</td>\n",
       "      <td>11132781.44</td>\n",
       "    </tr>\n",
       "    <tr>\n",
       "      <th>2025-05-01 03:00:00</th>\n",
       "      <td>2025-05-01 03:00:00</td>\n",
       "      <td>39076.369023</td>\n",
       "      <td>26256560.0</td>\n",
       "      <td>4.726181e+09</td>\n",
       "      <td>11132781.44</td>\n",
       "    </tr>\n",
       "    <tr>\n",
       "      <th>2025-05-01 04:00:00</th>\n",
       "      <td>2025-05-01 04:00:00</td>\n",
       "      <td>39095.264141</td>\n",
       "      <td>26256560.0</td>\n",
       "      <td>4.726181e+09</td>\n",
       "      <td>11132781.44</td>\n",
       "    </tr>\n",
       "    <tr>\n",
       "      <th>...</th>\n",
       "      <td>...</td>\n",
       "      <td>...</td>\n",
       "      <td>...</td>\n",
       "      <td>...</td>\n",
       "      <td>...</td>\n",
       "    </tr>\n",
       "    <tr>\n",
       "      <th>2025-05-28 19:00:00</th>\n",
       "      <td>2025-05-28 19:00:00</td>\n",
       "      <td>39065.972964</td>\n",
       "      <td>26256560.0</td>\n",
       "      <td>4.726181e+09</td>\n",
       "      <td>11132781.44</td>\n",
       "    </tr>\n",
       "    <tr>\n",
       "      <th>2025-05-28 20:00:00</th>\n",
       "      <td>2025-05-28 20:00:00</td>\n",
       "      <td>39052.854163</td>\n",
       "      <td>26256560.0</td>\n",
       "      <td>4.726181e+09</td>\n",
       "      <td>11132781.44</td>\n",
       "    </tr>\n",
       "    <tr>\n",
       "      <th>2025-05-28 21:00:00</th>\n",
       "      <td>2025-05-28 21:00:00</td>\n",
       "      <td>39054.137094</td>\n",
       "      <td>26256560.0</td>\n",
       "      <td>4.726181e+09</td>\n",
       "      <td>11132781.44</td>\n",
       "    </tr>\n",
       "    <tr>\n",
       "      <th>2025-05-28 22:00:00</th>\n",
       "      <td>2025-05-28 22:00:00</td>\n",
       "      <td>39067.616305</td>\n",
       "      <td>26256560.0</td>\n",
       "      <td>4.726181e+09</td>\n",
       "      <td>11132781.44</td>\n",
       "    </tr>\n",
       "    <tr>\n",
       "      <th>2025-05-28 23:00:00</th>\n",
       "      <td>2025-05-28 23:00:00</td>\n",
       "      <td>39067.262624</td>\n",
       "      <td>26256560.0</td>\n",
       "      <td>4.726181e+09</td>\n",
       "      <td>11132781.44</td>\n",
       "    </tr>\n",
       "  </tbody>\n",
       "</table>\n",
       "<p>672 rows × 5 columns</p>\n",
       "</div>"
      ],
      "text/plain": [
       "                                      id    hourly_pow     agg_pow  \\\n",
       "datetime                                                             \n",
       "2025-05-01 00:00:00  2025-05-01 00:00:00  39011.850481  26256560.0   \n",
       "2025-05-01 01:00:00  2025-05-01 01:00:00  39011.484158  26256560.0   \n",
       "2025-05-01 02:00:00  2025-05-01 02:00:00  39011.170167  26256560.0   \n",
       "2025-05-01 03:00:00  2025-05-01 03:00:00  39076.369023  26256560.0   \n",
       "2025-05-01 04:00:00  2025-05-01 04:00:00  39095.264141  26256560.0   \n",
       "...                                  ...           ...         ...   \n",
       "2025-05-28 19:00:00  2025-05-28 19:00:00  39065.972964  26256560.0   \n",
       "2025-05-28 20:00:00  2025-05-28 20:00:00  39052.854163  26256560.0   \n",
       "2025-05-28 21:00:00  2025-05-28 21:00:00  39054.137094  26256560.0   \n",
       "2025-05-28 22:00:00  2025-05-28 22:00:00  39067.616305  26256560.0   \n",
       "2025-05-28 23:00:00  2025-05-28 23:00:00  39067.262624  26256560.0   \n",
       "\n",
       "                         may_bill   may_carbon  \n",
       "datetime                                        \n",
       "2025-05-01 00:00:00  4.726181e+09  11132781.44  \n",
       "2025-05-01 01:00:00  4.726181e+09  11132781.44  \n",
       "2025-05-01 02:00:00  4.726181e+09  11132781.44  \n",
       "2025-05-01 03:00:00  4.726181e+09  11132781.44  \n",
       "2025-05-01 04:00:00  4.726181e+09  11132781.44  \n",
       "...                           ...          ...  \n",
       "2025-05-28 19:00:00  4.726181e+09  11132781.44  \n",
       "2025-05-28 20:00:00  4.726181e+09  11132781.44  \n",
       "2025-05-28 21:00:00  4.726181e+09  11132781.44  \n",
       "2025-05-28 22:00:00  4.726181e+09  11132781.44  \n",
       "2025-05-28 23:00:00  4.726181e+09  11132781.44  \n",
       "\n",
       "[672 rows x 5 columns]"
      ]
     },
     "execution_count": 23,
     "metadata": {},
     "output_type": "execute_result"
    }
   ],
   "source": [
    "submission"
   ]
  },
  {
   "cell_type": "markdown",
   "id": "921a4072",
   "metadata": {
    "papermill": {
     "duration": 0.007492,
     "end_time": "2025-05-31T15:08:06.394160",
     "exception": false,
     "start_time": "2025-05-31T15:08:06.386668",
     "status": "completed"
    },
    "tags": []
   },
   "source": [
    "### 다운로드 버튼 생성 (Kaggle 노트북용)"
   ]
  },
  {
   "cell_type": "code",
   "execution_count": 24,
   "id": "038b2dbb",
   "metadata": {
    "execution": {
     "iopub.execute_input": "2025-05-31T15:08:06.411051Z",
     "iopub.status.busy": "2025-05-31T15:08:06.410716Z",
     "iopub.status.idle": "2025-05-31T15:08:06.416831Z",
     "shell.execute_reply": "2025-05-31T15:08:06.415924Z"
    },
    "papermill": {
     "duration": 0.016902,
     "end_time": "2025-05-31T15:08:06.418748",
     "exception": false,
     "start_time": "2025-05-31T15:08:06.401846",
     "status": "completed"
    },
    "tags": []
   },
   "outputs": [
    {
     "data": {
      "text/html": [
       "<a href='submission_xgb_amplify_435.csv' target='_blank'>submission_xgb_amplify_435.csv</a><br>"
      ],
      "text/plain": [
       "/kaggle/working/submission_xgb_amplify_435.csv"
      ]
     },
     "execution_count": 24,
     "metadata": {},
     "output_type": "execute_result"
    }
   ],
   "source": [
    "# 6. 다운로드 버튼 생성 (Kaggle 노트북용)\n",
    "from IPython.display import FileLink\n",
    "FileLink('submission_xgb_amplify_435.csv')"
   ]
  }
 ],
 "metadata": {
  "kaggle": {
   "accelerator": "none",
   "dataSources": [
    {
     "databundleVersionId": 12312566,
     "sourceId": 99354,
     "sourceType": "competition"
    }
   ],
   "dockerImageVersionId": 31040,
   "isGpuEnabled": false,
   "isInternetEnabled": false,
   "language": "python",
   "sourceType": "notebook"
  },
  "kernelspec": {
   "display_name": "Python 3",
   "language": "python",
   "name": "python3"
  },
  "language_info": {
   "codemirror_mode": {
    "name": "ipython",
    "version": 3
   },
   "file_extension": ".py",
   "mimetype": "text/x-python",
   "name": "python",
   "nbconvert_exporter": "python",
   "pygments_lexer": "ipython3",
   "version": "3.11.11"
  },
  "papermill": {
   "default_parameters": {},
   "duration": 435.20118,
   "end_time": "2025-05-31T15:08:08.054944",
   "environment_variables": {},
   "exception": null,
   "input_path": "__notebook__.ipynb",
   "output_path": "__notebook__.ipynb",
   "parameters": {},
   "start_time": "2025-05-31T15:00:52.853764",
   "version": "2.6.0"
  }
 },
 "nbformat": 4,
 "nbformat_minor": 5
}
