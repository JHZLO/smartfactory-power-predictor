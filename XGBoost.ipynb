{
 "cells": [
  {
   "cell_type": "code",
   "execution_count": 1,
   "id": "f1f180e1",
   "metadata": {
    "_cell_guid": "b1076dfc-b9ad-4769-8c92-a6c4dae69d19",
    "_uuid": "8f2839f25d086af736a60e9eeb907d3b93b6e0e5",
    "execution": {
     "iopub.execute_input": "2025-05-08T13:57:10.507804Z",
     "iopub.status.busy": "2025-05-08T13:57:10.506882Z",
     "iopub.status.idle": "2025-05-08T13:57:12.826757Z",
     "shell.execute_reply": "2025-05-08T13:57:12.825758Z"
    },
    "papermill": {
     "duration": 2.327181,
     "end_time": "2025-05-08T13:57:12.828251",
     "exception": false,
     "start_time": "2025-05-08T13:57:10.501070",
     "status": "completed"
    },
    "tags": []
   },
   "outputs": [
    {
     "name": "stdout",
     "output_type": "stream",
     "text": [
      "/kaggle/input/dku-data-science/sample_submission_final.csv\n",
      "/kaggle/input/dku-data-science/train.csv\n",
      "/kaggle/input/dku-data-science/test.csv\n"
     ]
    }
   ],
   "source": [
    "# This Python 3 environment comes with many helpful analytics libraries installed\n",
    "# It is defined by the kaggle/python Docker image: https://github.com/kaggle/docker-python\n",
    "# For example, here's several helpful packages to load\n",
    "\n",
    "import numpy as np # linear algebra\n",
    "import pandas as pd # data processing, CSV file I/O (e.g. pd.read_csv)\n",
    "\n",
    "# Input data files are available in the read-only \"../input/\" directory\n",
    "# For example, running this (by clicking run or pressing Shift+Enter) will list all files under the input directory\n",
    "\n",
    "import os\n",
    "for dirname, _, filenames in os.walk('/kaggle/input'):\n",
    "    for filename in filenames:\n",
    "        print(os.path.join(dirname, filename))\n",
    "\n",
    "# You can write up to 20GB to the current directory (/kaggle/working/) that gets preserved as output when you create a version using \"Save & Run All\" \n",
    "# You can also write temporary files to /kaggle/temp/, but they won't be saved outside of the current session"
   ]
  },
  {
   "cell_type": "markdown",
   "id": "1abd7379",
   "metadata": {
    "papermill": {
     "duration": 0.003512,
     "end_time": "2025-05-08T13:57:12.836070",
     "exception": false,
     "start_time": "2025-05-08T13:57:12.832558",
     "status": "completed"
    },
    "tags": []
   },
   "source": [
    "# 0️⃣ 필수 라이브리리"
   ]
  },
  {
   "cell_type": "code",
   "execution_count": 2,
   "id": "e8b8da68",
   "metadata": {
    "execution": {
     "iopub.execute_input": "2025-05-08T13:57:12.845656Z",
     "iopub.status.busy": "2025-05-08T13:57:12.845222Z",
     "iopub.status.idle": "2025-05-08T13:57:16.557315Z",
     "shell.execute_reply": "2025-05-08T13:57:16.556494Z"
    },
    "papermill": {
     "duration": 3.719137,
     "end_time": "2025-05-08T13:57:16.558948",
     "exception": false,
     "start_time": "2025-05-08T13:57:12.839811",
     "status": "completed"
    },
    "tags": []
   },
   "outputs": [],
   "source": [
    "# 사용 라이브러리\n",
    "import numpy as np\n",
    "import pandas as pd\n",
    "from datetime import datetime\n",
    "from sklearn.model_selection import train_test_split\n",
    "from sklearn.metrics import (\n",
    "    accuracy_score,\n",
    "    confusion_matrix,\n",
    "    f1_score,\n",
    "    precision_score,\n",
    "    recall_score,\n",
    "    classification_report\n",
    ")\n",
    "import matplotlib.pyplot as plt\n",
    "import seaborn as sns\n",
    "import warnings\n",
    "warnings.filterwarnings(\"ignore\")\n",
    "\n",
    "from sklearn.utils.class_weight import compute_class_weight # 가중치 부여\n",
    "\n",
    "import math\n",
    "from sklearn.preprocessing import LabelEncoder\n",
    "from sklearn.model_selection import KFold\n",
    "from sklearn.metrics import mean_squared_error\n",
    "from sklearn.metrics import confusion_matrix\n",
    "from sklearn.inspection import permutation_importance\n",
    "\n",
    "from mpl_toolkits.mplot3d import Axes3D\n",
    "from sklearn.metrics import roc_curve, auc\n",
    "import xgboost as xgb"
   ]
  },
  {
   "cell_type": "markdown",
   "id": "7cfbc95b",
   "metadata": {
    "papermill": {
     "duration": 0.0037,
     "end_time": "2025-05-08T13:57:16.566758",
     "exception": false,
     "start_time": "2025-05-08T13:57:16.563058",
     "status": "completed"
    },
    "tags": []
   },
   "source": [
    "# 1️⃣ EDA"
   ]
  },
  {
   "cell_type": "code",
   "execution_count": 3,
   "id": "1b04073d",
   "metadata": {
    "execution": {
     "iopub.execute_input": "2025-05-08T13:57:16.576336Z",
     "iopub.status.busy": "2025-05-08T13:57:16.575374Z",
     "iopub.status.idle": "2025-05-08T13:59:53.986810Z",
     "shell.execute_reply": "2025-05-08T13:59:53.985366Z"
    },
    "papermill": {
     "duration": 157.420322,
     "end_time": "2025-05-08T13:59:53.990856",
     "exception": false,
     "start_time": "2025-05-08T13:57:16.570534",
     "status": "completed"
    },
    "tags": []
   },
   "outputs": [],
   "source": [
    "# 데이터셋 불러기기\n",
    "base_path = \"/kaggle/input/dku-data-science\"\n",
    "\n",
    "train_df = pd.read_csv(os.path.join(base_path, \"train.csv\"))\n",
    "test_df = pd.read_csv(os.path.join(base_path, \"test.csv\"))\n",
    "submission_df = pd.read_csv(os.path.join(base_path, \"sample_submission_final.csv\"))"
   ]
  },
  {
   "cell_type": "code",
   "execution_count": 4,
   "id": "f336adfd",
   "metadata": {
    "execution": {
     "iopub.execute_input": "2025-05-08T13:59:54.004622Z",
     "iopub.status.busy": "2025-05-08T13:59:54.004264Z",
     "iopub.status.idle": "2025-05-08T13:59:54.047362Z",
     "shell.execute_reply": "2025-05-08T13:59:54.046438Z"
    },
    "papermill": {
     "duration": 0.051795,
     "end_time": "2025-05-08T13:59:54.050198",
     "exception": false,
     "start_time": "2025-05-08T13:59:53.998403",
     "status": "completed"
    },
    "tags": []
   },
   "outputs": [
    {
     "data": {
      "text/html": [
       "<div>\n",
       "<style scoped>\n",
       "    .dataframe tbody tr th:only-of-type {\n",
       "        vertical-align: middle;\n",
       "    }\n",
       "\n",
       "    .dataframe tbody tr th {\n",
       "        vertical-align: top;\n",
       "    }\n",
       "\n",
       "    .dataframe thead th {\n",
       "        text-align: right;\n",
       "    }\n",
       "</style>\n",
       "<table border=\"1\" class=\"dataframe\">\n",
       "  <thead>\n",
       "    <tr style=\"text-align: right;\">\n",
       "      <th></th>\n",
       "      <th>module(equipment)</th>\n",
       "      <th>timestamp</th>\n",
       "      <th>localtime</th>\n",
       "      <th>operation</th>\n",
       "      <th>voltageR</th>\n",
       "      <th>voltageS</th>\n",
       "      <th>voltageT</th>\n",
       "      <th>voltageRS</th>\n",
       "      <th>voltageST</th>\n",
       "      <th>voltageTR</th>\n",
       "      <th>currentR</th>\n",
       "      <th>currentS</th>\n",
       "      <th>currentT</th>\n",
       "      <th>activePower</th>\n",
       "      <th>powerFactorR</th>\n",
       "      <th>powerFactorS</th>\n",
       "      <th>powerFactorT</th>\n",
       "      <th>reactivePowerLagging</th>\n",
       "      <th>accumActiveEnergy</th>\n",
       "    </tr>\n",
       "  </thead>\n",
       "  <tbody>\n",
       "    <tr>\n",
       "      <th>0</th>\n",
       "      <td>14(2호기)</td>\n",
       "      <td>1739918155000</td>\n",
       "      <td>20250218143555</td>\n",
       "      <td>1</td>\n",
       "      <td>216.65</td>\n",
       "      <td>215.21</td>\n",
       "      <td>216.89</td>\n",
       "      <td>373.99</td>\n",
       "      <td>374.20</td>\n",
       "      <td>375.45</td>\n",
       "      <td>17.76</td>\n",
       "      <td>6.59</td>\n",
       "      <td>10.99</td>\n",
       "      <td>2039.66</td>\n",
       "      <td>91.24</td>\n",
       "      <td>93.67</td>\n",
       "      <td>88.05</td>\n",
       "      <td>369.96</td>\n",
       "      <td>8789565</td>\n",
       "    </tr>\n",
       "    <tr>\n",
       "      <th>1</th>\n",
       "      <td>16(호이스트)</td>\n",
       "      <td>1742552385000</td>\n",
       "      <td>20250321031945</td>\n",
       "      <td>1</td>\n",
       "      <td>212.13</td>\n",
       "      <td>216.51</td>\n",
       "      <td>218.88</td>\n",
       "      <td>371.20</td>\n",
       "      <td>377.04</td>\n",
       "      <td>373.26</td>\n",
       "      <td>17.75</td>\n",
       "      <td>12.07</td>\n",
       "      <td>10.94</td>\n",
       "      <td>2339.27</td>\n",
       "      <td>94.75</td>\n",
       "      <td>88.46</td>\n",
       "      <td>93.38</td>\n",
       "      <td>423.29</td>\n",
       "      <td>9147762</td>\n",
       "    </tr>\n",
       "    <tr>\n",
       "      <th>2</th>\n",
       "      <td>11(우측분전반1)</td>\n",
       "      <td>1738245780000</td>\n",
       "      <td>20250130060300</td>\n",
       "      <td>1</td>\n",
       "      <td>219.30</td>\n",
       "      <td>211.36</td>\n",
       "      <td>212.71</td>\n",
       "      <td>372.96</td>\n",
       "      <td>367.24</td>\n",
       "      <td>374.12</td>\n",
       "      <td>27.54</td>\n",
       "      <td>12.88</td>\n",
       "      <td>24.68</td>\n",
       "      <td>3736.34</td>\n",
       "      <td>98.70</td>\n",
       "      <td>87.36</td>\n",
       "      <td>88.44</td>\n",
       "      <td>490.54</td>\n",
       "      <td>5480746</td>\n",
       "    </tr>\n",
       "    <tr>\n",
       "      <th>3</th>\n",
       "      <td>5(좌측분전반)</td>\n",
       "      <td>1740645790000</td>\n",
       "      <td>20250227004310</td>\n",
       "      <td>1</td>\n",
       "      <td>214.15</td>\n",
       "      <td>213.73</td>\n",
       "      <td>210.73</td>\n",
       "      <td>370.54</td>\n",
       "      <td>367.58</td>\n",
       "      <td>367.95</td>\n",
       "      <td>26.78</td>\n",
       "      <td>7.03</td>\n",
       "      <td>22.33</td>\n",
       "      <td>3185.26</td>\n",
       "      <td>98.62</td>\n",
       "      <td>90.41</td>\n",
       "      <td>92.84</td>\n",
       "      <td>466.56</td>\n",
       "      <td>9190918</td>\n",
       "    </tr>\n",
       "    <tr>\n",
       "      <th>4</th>\n",
       "      <td>18(우측분전반2)</td>\n",
       "      <td>1737829500000</td>\n",
       "      <td>20250125102500</td>\n",
       "      <td>1</td>\n",
       "      <td>212.07</td>\n",
       "      <td>215.52</td>\n",
       "      <td>215.66</td>\n",
       "      <td>370.29</td>\n",
       "      <td>373.40</td>\n",
       "      <td>370.41</td>\n",
       "      <td>29.51</td>\n",
       "      <td>8.88</td>\n",
       "      <td>6.82</td>\n",
       "      <td>2571.53</td>\n",
       "      <td>85.52</td>\n",
       "      <td>90.74</td>\n",
       "      <td>97.44</td>\n",
       "      <td>392.70</td>\n",
       "      <td>8606780</td>\n",
       "    </tr>\n",
       "  </tbody>\n",
       "</table>\n",
       "</div>"
      ],
      "text/plain": [
       "  module(equipment)      timestamp       localtime  operation  voltageR  \\\n",
       "0           14(2호기)  1739918155000  20250218143555          1    216.65   \n",
       "1          16(호이스트)  1742552385000  20250321031945          1    212.13   \n",
       "2        11(우측분전반1)  1738245780000  20250130060300          1    219.30   \n",
       "3          5(좌측분전반)  1740645790000  20250227004310          1    214.15   \n",
       "4        18(우측분전반2)  1737829500000  20250125102500          1    212.07   \n",
       "\n",
       "   voltageS  voltageT  voltageRS  voltageST  voltageTR  currentR  currentS  \\\n",
       "0    215.21    216.89     373.99     374.20     375.45     17.76      6.59   \n",
       "1    216.51    218.88     371.20     377.04     373.26     17.75     12.07   \n",
       "2    211.36    212.71     372.96     367.24     374.12     27.54     12.88   \n",
       "3    213.73    210.73     370.54     367.58     367.95     26.78      7.03   \n",
       "4    215.52    215.66     370.29     373.40     370.41     29.51      8.88   \n",
       "\n",
       "   currentT  activePower  powerFactorR  powerFactorS  powerFactorT  \\\n",
       "0     10.99      2039.66         91.24         93.67         88.05   \n",
       "1     10.94      2339.27         94.75         88.46         93.38   \n",
       "2     24.68      3736.34         98.70         87.36         88.44   \n",
       "3     22.33      3185.26         98.62         90.41         92.84   \n",
       "4      6.82      2571.53         85.52         90.74         97.44   \n",
       "\n",
       "   reactivePowerLagging  accumActiveEnergy  \n",
       "0                369.96            8789565  \n",
       "1                423.29            9147762  \n",
       "2                490.54            5480746  \n",
       "3                466.56            9190918  \n",
       "4                392.70            8606780  "
      ]
     },
     "execution_count": 4,
     "metadata": {},
     "output_type": "execute_result"
    }
   ],
   "source": [
    "train_df.head()"
   ]
  },
  {
   "cell_type": "markdown",
   "id": "a851694d",
   "metadata": {
    "papermill": {
     "duration": 0.004116,
     "end_time": "2025-05-08T13:59:54.058757",
     "exception": false,
     "start_time": "2025-05-08T13:59:54.054641",
     "status": "completed"
    },
    "tags": []
   },
   "source": [
    "## 컬럼별 유형 확인\n",
    "- module만 범주형\n",
    "- 나머지는 전부 수치형 데이터"
   ]
  },
  {
   "cell_type": "code",
   "execution_count": 5,
   "id": "9be7d984",
   "metadata": {
    "execution": {
     "iopub.execute_input": "2025-05-08T13:59:54.068786Z",
     "iopub.status.busy": "2025-05-08T13:59:54.068307Z",
     "iopub.status.idle": "2025-05-08T13:59:54.115492Z",
     "shell.execute_reply": "2025-05-08T13:59:54.114482Z"
    },
    "papermill": {
     "duration": 0.054138,
     "end_time": "2025-05-08T13:59:54.117080",
     "exception": false,
     "start_time": "2025-05-08T13:59:54.062942",
     "status": "completed"
    },
    "tags": []
   },
   "outputs": [
    {
     "name": "stdout",
     "output_type": "stream",
     "text": [
      "train_df information\n",
      "<class 'pandas.core.frame.DataFrame'>\n",
      "RangeIndex: 23587209 entries, 0 to 23587208\n",
      "Data columns (total 19 columns):\n",
      " #   Column                Dtype  \n",
      "---  ------                -----  \n",
      " 0   module(equipment)     object \n",
      " 1   timestamp             int64  \n",
      " 2   localtime             int64  \n",
      " 3   operation             int64  \n",
      " 4   voltageR              float64\n",
      " 5   voltageS              float64\n",
      " 6   voltageT              float64\n",
      " 7   voltageRS             float64\n",
      " 8   voltageST             float64\n",
      " 9   voltageTR             float64\n",
      " 10  currentR              float64\n",
      " 11  currentS              float64\n",
      " 12  currentT              float64\n",
      " 13  activePower           float64\n",
      " 14  powerFactorR          float64\n",
      " 15  powerFactorS          float64\n",
      " 16  powerFactorT          float64\n",
      " 17  reactivePowerLagging  float64\n",
      " 18  accumActiveEnergy     int64  \n",
      "dtypes: float64(14), int64(4), object(1)\n",
      "memory usage: 3.3+ GB\n",
      "None\n",
      "\n",
      "test_df information\n",
      "<class 'pandas.core.frame.DataFrame'>\n",
      "RangeIndex: 10108804 entries, 0 to 10108803\n",
      "Data columns (total 19 columns):\n",
      " #   Column                Dtype  \n",
      "---  ------                -----  \n",
      " 0   module(equipment)     object \n",
      " 1   timestamp             int64  \n",
      " 2   localtime             int64  \n",
      " 3   operation             int64  \n",
      " 4   voltageR              float64\n",
      " 5   voltageS              float64\n",
      " 6   voltageT              float64\n",
      " 7   voltageRS             float64\n",
      " 8   voltageST             float64\n",
      " 9   voltageTR             float64\n",
      " 10  currentR              float64\n",
      " 11  currentS              float64\n",
      " 12  currentT              float64\n",
      " 13  activePower           float64\n",
      " 14  powerFactorR          float64\n",
      " 15  powerFactorS          float64\n",
      " 16  powerFactorT          float64\n",
      " 17  reactivePowerLagging  float64\n",
      " 18  accumActiveEnergy     int64  \n",
      "dtypes: float64(14), int64(4), object(1)\n",
      "memory usage: 1.4+ GB\n",
      "None\n"
     ]
    }
   ],
   "source": [
    "# train data 컬럼 별 유형 확인\n",
    "print('train_df information')\n",
    "print(train_df.info())\n",
    "print()\n",
    "\n",
    "# test data 컬럼 별 유형 확인\n",
    "print('test_df information')\n",
    "print(test_df.info())"
   ]
  },
  {
   "cell_type": "markdown",
   "id": "949821bf",
   "metadata": {
    "papermill": {
     "duration": 0.003967,
     "end_time": "2025-05-08T13:59:54.125544",
     "exception": false,
     "start_time": "2025-05-08T13:59:54.121577",
     "status": "completed"
    },
    "tags": []
   },
   "source": [
    "## 결측치 여부 확인\n",
    "- 결측치 하나도 없음"
   ]
  },
  {
   "cell_type": "code",
   "execution_count": 6,
   "id": "91954347",
   "metadata": {
    "execution": {
     "iopub.execute_input": "2025-05-08T13:59:54.135946Z",
     "iopub.status.busy": "2025-05-08T13:59:54.135183Z",
     "iopub.status.idle": "2025-05-08T13:59:57.492094Z",
     "shell.execute_reply": "2025-05-08T13:59:57.490972Z"
    },
    "papermill": {
     "duration": 3.364157,
     "end_time": "2025-05-08T13:59:57.493756",
     "exception": false,
     "start_time": "2025-05-08T13:59:54.129599",
     "status": "completed"
    },
    "tags": []
   },
   "outputs": [
    {
     "name": "stdout",
     "output_type": "stream",
     "text": [
      "train_df 결측치 현황\n",
      "module(equipment)       0\n",
      "timestamp               0\n",
      "localtime               0\n",
      "operation               0\n",
      "voltageR                0\n",
      "voltageS                0\n",
      "voltageT                0\n",
      "voltageRS               0\n",
      "voltageST               0\n",
      "voltageTR               0\n",
      "currentR                0\n",
      "currentS                0\n",
      "currentT                0\n",
      "activePower             0\n",
      "powerFactorR            0\n",
      "powerFactorS            0\n",
      "powerFactorT            0\n",
      "reactivePowerLagging    0\n",
      "accumActiveEnergy       0\n",
      "dtype: int64\n",
      "\n",
      " test_df 결측치 현황\n",
      "module(equipment)       0\n",
      "timestamp               0\n",
      "localtime               0\n",
      "operation               0\n",
      "voltageR                0\n",
      "voltageS                0\n",
      "voltageT                0\n",
      "voltageRS               0\n",
      "voltageST               0\n",
      "voltageTR               0\n",
      "currentR                0\n",
      "currentS                0\n",
      "currentT                0\n",
      "activePower             0\n",
      "powerFactorR            0\n",
      "powerFactorS            0\n",
      "powerFactorT            0\n",
      "reactivePowerLagging    0\n",
      "accumActiveEnergy       0\n",
      "dtype: int64\n"
     ]
    }
   ],
   "source": [
    "# 결측치 여부 및 개수 확인\n",
    "print(\"train_df 결측치 현황\")\n",
    "print(train_df.isnull().sum())\n",
    "\n",
    "print(\"\\n test_df 결측치 현황\")\n",
    "print(test_df.isnull().sum())"
   ]
  },
  {
   "cell_type": "markdown",
   "id": "53638615",
   "metadata": {
    "papermill": {
     "duration": 0.004274,
     "end_time": "2025-05-08T13:59:57.502736",
     "exception": false,
     "start_time": "2025-05-08T13:59:57.498462",
     "status": "completed"
    },
    "tags": []
   },
   "source": [
    "## 컬럼별 고유값 수"
   ]
  },
  {
   "cell_type": "code",
   "execution_count": 7,
   "id": "2cdf6ed9",
   "metadata": {
    "execution": {
     "iopub.execute_input": "2025-05-08T13:59:57.512751Z",
     "iopub.status.busy": "2025-05-08T13:59:57.512469Z",
     "iopub.status.idle": "2025-05-08T14:00:17.548297Z",
     "shell.execute_reply": "2025-05-08T14:00:17.547168Z"
    },
    "papermill": {
     "duration": 20.042574,
     "end_time": "2025-05-08T14:00:17.549773",
     "exception": false,
     "start_time": "2025-05-08T13:59:57.507199",
     "status": "completed"
    },
    "tags": []
   },
   "outputs": [
    {
     "name": "stdout",
     "output_type": "stream",
     "text": [
      "train_df 컬럼별 고유값 수\n",
      "module(equipment)             13\n",
      "timestamp                2591281\n",
      "localtime                2592001\n",
      "operation                      1\n",
      "voltageR                    2755\n",
      "voltageS                    2790\n",
      "voltageT                    2780\n",
      "voltageRS                   3900\n",
      "voltageST                   3917\n",
      "voltageTR                   3889\n",
      "currentR                    2501\n",
      "currentS                    2501\n",
      "currentT                    2501\n",
      "activePower               402760\n",
      "powerFactorR                4001\n",
      "powerFactorS                4001\n",
      "powerFactorT                4001\n",
      "reactivePowerLagging      132977\n",
      "accumActiveEnergy       11164883\n",
      "dtype: int64\n",
      "\n",
      " test_df 컬럼별 고유값 수\n",
      "module(equipment)            13\n",
      "timestamp               2566100\n",
      "localtime               2566802\n",
      "operation                     1\n",
      "voltageR                   2486\n",
      "voltageS                   2505\n",
      "voltageT                   2508\n",
      "voltageRS                  3443\n",
      "voltageST                  3437\n",
      "voltageTR                  3414\n",
      "currentR                   2501\n",
      "currentS                   2501\n",
      "currentT                   2501\n",
      "activePower              387612\n",
      "powerFactorR               3992\n",
      "powerFactorS               3996\n",
      "powerFactorT               3988\n",
      "reactivePowerLagging     128496\n",
      "accumActiveEnergy       7118972\n",
      "dtype: int64\n"
     ]
    }
   ],
   "source": [
    "print(\"train_df 컬럼별 고유값 수\")\n",
    "print(train_df.nunique())\n",
    "\n",
    "print(\"\\n test_df 컬럼별 고유값 수\")\n",
    "print(test_df.nunique())"
   ]
  },
  {
   "cell_type": "markdown",
   "id": "62fef991",
   "metadata": {
    "papermill": {
     "duration": 0.004352,
     "end_time": "2025-05-08T14:00:17.560313",
     "exception": false,
     "start_time": "2025-05-08T14:00:17.555961",
     "status": "completed"
    },
    "tags": []
   },
   "source": [
    "# 2️⃣데이터 시각화"
   ]
  },
  {
   "cell_type": "markdown",
   "id": "197a87bd",
   "metadata": {
    "papermill": {
     "duration": 0.004269,
     "end_time": "2025-05-08T14:00:17.569329",
     "exception": false,
     "start_time": "2025-05-08T14:00:17.565060",
     "status": "completed"
    },
    "tags": []
   },
   "source": [
    "# 3️⃣ 데이터 전처리"
   ]
  },
  {
   "cell_type": "code",
   "execution_count": 8,
   "id": "fe9baef8",
   "metadata": {
    "execution": {
     "iopub.execute_input": "2025-05-08T14:00:17.580170Z",
     "iopub.status.busy": "2025-05-08T14:00:17.579831Z",
     "iopub.status.idle": "2025-05-08T14:02:22.172983Z",
     "shell.execute_reply": "2025-05-08T14:02:22.172033Z"
    },
    "papermill": {
     "duration": 124.600664,
     "end_time": "2025-05-08T14:02:22.174854",
     "exception": false,
     "start_time": "2025-05-08T14:00:17.574190",
     "status": "completed"
    },
    "tags": []
   },
   "outputs": [],
   "source": [
    "# 시간 정보 처리\n",
    "for df in [train_df, test_df]:\n",
    "    df['datetime'] = pd.to_datetime(df['localtime'], format=\"%Y%m%d%H%M%S\")\n",
    "    df['hour'] = df['datetime'].dt.hour\n",
    "    df['day'] = df['datetime'].dt.day\n",
    "    df['month'] = df['datetime'].dt.month"
   ]
  },
  {
   "cell_type": "markdown",
   "id": "f8b714f4",
   "metadata": {
    "papermill": {
     "duration": 0.004295,
     "end_time": "2025-05-08T14:02:22.184624",
     "exception": false,
     "start_time": "2025-05-08T14:02:22.180329",
     "status": "completed"
    },
    "tags": []
   },
   "source": [
    "# 4️⃣ 모델 학습"
   ]
  },
  {
   "cell_type": "code",
   "execution_count": 9,
   "id": "9fb0efc7",
   "metadata": {
    "execution": {
     "iopub.execute_input": "2025-05-08T14:02:22.195853Z",
     "iopub.status.busy": "2025-05-08T14:02:22.195226Z",
     "iopub.status.idle": "2025-05-08T14:02:23.335196Z",
     "shell.execute_reply": "2025-05-08T14:02:23.334227Z"
    },
    "papermill": {
     "duration": 1.147304,
     "end_time": "2025-05-08T14:02:23.336972",
     "exception": false,
     "start_time": "2025-05-08T14:02:22.189668",
     "status": "completed"
    },
    "tags": []
   },
   "outputs": [],
   "source": [
    "# 사용할 특징(예: 전류, 전압, 역률 등)\n",
    "features = ['voltageR', 'voltageS', 'voltageT',\n",
    "            'currentR', 'currentS', 'currentT',\n",
    "            'powerFactorR', 'powerFactorS', 'powerFactorT',\n",
    "            'reactivePowerLagging', 'hour', 'day', 'month']\n",
    "\n",
    "target = 'activePower'  # hourly_pow 대신 activePower을 시간 단위로 해석\n",
    "\n",
    "# 학습 데이터\n",
    "X_train = train_df[features]\n",
    "y_train = train_df[target]\n",
    "\n",
    "# 테스트 데이터\n",
    "X_test = test_df[features]"
   ]
  },
  {
   "cell_type": "code",
   "execution_count": 10,
   "id": "13d319f7",
   "metadata": {
    "execution": {
     "iopub.execute_input": "2025-05-08T14:02:23.347695Z",
     "iopub.status.busy": "2025-05-08T14:02:23.347388Z",
     "iopub.status.idle": "2025-05-08T14:04:18.961502Z",
     "shell.execute_reply": "2025-05-08T14:04:18.960520Z"
    },
    "papermill": {
     "duration": 115.627355,
     "end_time": "2025-05-08T14:04:18.969167",
     "exception": false,
     "start_time": "2025-05-08T14:02:23.341812",
     "status": "completed"
    },
    "tags": []
   },
   "outputs": [
    {
     "data": {
      "text/html": [
       "<style>#sk-container-id-1 {color: black;background-color: white;}#sk-container-id-1 pre{padding: 0;}#sk-container-id-1 div.sk-toggleable {background-color: white;}#sk-container-id-1 label.sk-toggleable__label {cursor: pointer;display: block;width: 100%;margin-bottom: 0;padding: 0.3em;box-sizing: border-box;text-align: center;}#sk-container-id-1 label.sk-toggleable__label-arrow:before {content: \"▸\";float: left;margin-right: 0.25em;color: #696969;}#sk-container-id-1 label.sk-toggleable__label-arrow:hover:before {color: black;}#sk-container-id-1 div.sk-estimator:hover label.sk-toggleable__label-arrow:before {color: black;}#sk-container-id-1 div.sk-toggleable__content {max-height: 0;max-width: 0;overflow: hidden;text-align: left;background-color: #f0f8ff;}#sk-container-id-1 div.sk-toggleable__content pre {margin: 0.2em;color: black;border-radius: 0.25em;background-color: #f0f8ff;}#sk-container-id-1 input.sk-toggleable__control:checked~div.sk-toggleable__content {max-height: 200px;max-width: 100%;overflow: auto;}#sk-container-id-1 input.sk-toggleable__control:checked~label.sk-toggleable__label-arrow:before {content: \"▾\";}#sk-container-id-1 div.sk-estimator input.sk-toggleable__control:checked~label.sk-toggleable__label {background-color: #d4ebff;}#sk-container-id-1 div.sk-label input.sk-toggleable__control:checked~label.sk-toggleable__label {background-color: #d4ebff;}#sk-container-id-1 input.sk-hidden--visually {border: 0;clip: rect(1px 1px 1px 1px);clip: rect(1px, 1px, 1px, 1px);height: 1px;margin: -1px;overflow: hidden;padding: 0;position: absolute;width: 1px;}#sk-container-id-1 div.sk-estimator {font-family: monospace;background-color: #f0f8ff;border: 1px dotted black;border-radius: 0.25em;box-sizing: border-box;margin-bottom: 0.5em;}#sk-container-id-1 div.sk-estimator:hover {background-color: #d4ebff;}#sk-container-id-1 div.sk-parallel-item::after {content: \"\";width: 100%;border-bottom: 1px solid gray;flex-grow: 1;}#sk-container-id-1 div.sk-label:hover label.sk-toggleable__label {background-color: #d4ebff;}#sk-container-id-1 div.sk-serial::before {content: \"\";position: absolute;border-left: 1px solid gray;box-sizing: border-box;top: 0;bottom: 0;left: 50%;z-index: 0;}#sk-container-id-1 div.sk-serial {display: flex;flex-direction: column;align-items: center;background-color: white;padding-right: 0.2em;padding-left: 0.2em;position: relative;}#sk-container-id-1 div.sk-item {position: relative;z-index: 1;}#sk-container-id-1 div.sk-parallel {display: flex;align-items: stretch;justify-content: center;background-color: white;position: relative;}#sk-container-id-1 div.sk-item::before, #sk-container-id-1 div.sk-parallel-item::before {content: \"\";position: absolute;border-left: 1px solid gray;box-sizing: border-box;top: 0;bottom: 0;left: 50%;z-index: -1;}#sk-container-id-1 div.sk-parallel-item {display: flex;flex-direction: column;z-index: 1;position: relative;background-color: white;}#sk-container-id-1 div.sk-parallel-item:first-child::after {align-self: flex-end;width: 50%;}#sk-container-id-1 div.sk-parallel-item:last-child::after {align-self: flex-start;width: 50%;}#sk-container-id-1 div.sk-parallel-item:only-child::after {width: 0;}#sk-container-id-1 div.sk-dashed-wrapped {border: 1px dashed gray;margin: 0 0.4em 0.5em 0.4em;box-sizing: border-box;padding-bottom: 0.4em;background-color: white;}#sk-container-id-1 div.sk-label label {font-family: monospace;font-weight: bold;display: inline-block;line-height: 1.2em;}#sk-container-id-1 div.sk-label-container {text-align: center;}#sk-container-id-1 div.sk-container {/* jupyter's `normalize.less` sets `[hidden] { display: none; }` but bootstrap.min.css set `[hidden] { display: none !important; }` so we also need the `!important` here to be able to override the default hidden behavior on the sphinx rendered scikit-learn.org. See: https://github.com/scikit-learn/scikit-learn/issues/21755 */display: inline-block !important;position: relative;}#sk-container-id-1 div.sk-text-repr-fallback {display: none;}</style><div id=\"sk-container-id-1\" class=\"sk-top-container\"><div class=\"sk-text-repr-fallback\"><pre>XGBRegressor(base_score=None, booster=None, callbacks=None,\n",
       "             colsample_bylevel=None, colsample_bynode=None,\n",
       "             colsample_bytree=None, device=None, early_stopping_rounds=None,\n",
       "             enable_categorical=False, eval_metric=None, feature_types=None,\n",
       "             gamma=None, grow_policy=None, importance_type=None,\n",
       "             interaction_constraints=None, learning_rate=0.1, max_bin=None,\n",
       "             max_cat_threshold=None, max_cat_to_onehot=None,\n",
       "             max_delta_step=None, max_depth=4, max_leaves=None,\n",
       "             min_child_weight=None, missing=nan, monotone_constraints=None,\n",
       "             multi_strategy=None, n_estimators=100, n_jobs=None,\n",
       "             num_parallel_tree=None, random_state=42, ...)</pre><b>In a Jupyter environment, please rerun this cell to show the HTML representation or trust the notebook. <br />On GitHub, the HTML representation is unable to render, please try loading this page with nbviewer.org.</b></div><div class=\"sk-container\" hidden><div class=\"sk-item\"><div class=\"sk-estimator sk-toggleable\"><input class=\"sk-toggleable__control sk-hidden--visually\" id=\"sk-estimator-id-1\" type=\"checkbox\" checked><label for=\"sk-estimator-id-1\" class=\"sk-toggleable__label sk-toggleable__label-arrow\">XGBRegressor</label><div class=\"sk-toggleable__content\"><pre>XGBRegressor(base_score=None, booster=None, callbacks=None,\n",
       "             colsample_bylevel=None, colsample_bynode=None,\n",
       "             colsample_bytree=None, device=None, early_stopping_rounds=None,\n",
       "             enable_categorical=False, eval_metric=None, feature_types=None,\n",
       "             gamma=None, grow_policy=None, importance_type=None,\n",
       "             interaction_constraints=None, learning_rate=0.1, max_bin=None,\n",
       "             max_cat_threshold=None, max_cat_to_onehot=None,\n",
       "             max_delta_step=None, max_depth=4, max_leaves=None,\n",
       "             min_child_weight=None, missing=nan, monotone_constraints=None,\n",
       "             multi_strategy=None, n_estimators=100, n_jobs=None,\n",
       "             num_parallel_tree=None, random_state=42, ...)</pre></div></div></div></div></div>"
      ],
      "text/plain": [
       "XGBRegressor(base_score=None, booster=None, callbacks=None,\n",
       "             colsample_bylevel=None, colsample_bynode=None,\n",
       "             colsample_bytree=None, device=None, early_stopping_rounds=None,\n",
       "             enable_categorical=False, eval_metric=None, feature_types=None,\n",
       "             gamma=None, grow_policy=None, importance_type=None,\n",
       "             interaction_constraints=None, learning_rate=0.1, max_bin=None,\n",
       "             max_cat_threshold=None, max_cat_to_onehot=None,\n",
       "             max_delta_step=None, max_depth=4, max_leaves=None,\n",
       "             min_child_weight=None, missing=nan, monotone_constraints=None,\n",
       "             multi_strategy=None, n_estimators=100, n_jobs=None,\n",
       "             num_parallel_tree=None, random_state=42, ...)"
      ]
     },
     "execution_count": 10,
     "metadata": {},
     "output_type": "execute_result"
    }
   ],
   "source": [
    "model = xgb.XGBRegressor(n_estimators=100, max_depth=4, learning_rate=0.1, random_state=42)\n",
    "model.fit(X_train, y_train)"
   ]
  },
  {
   "cell_type": "markdown",
   "id": "677a4434",
   "metadata": {
    "papermill": {
     "duration": 0.00459,
     "end_time": "2025-05-08T14:04:18.978864",
     "exception": false,
     "start_time": "2025-05-08T14:04:18.974274",
     "status": "completed"
    },
    "tags": []
   },
   "source": [
    "# 5️⃣ 모델 검증"
   ]
  },
  {
   "cell_type": "markdown",
   "id": "5d4d0b25",
   "metadata": {
    "papermill": {
     "duration": 0.004475,
     "end_time": "2025-05-08T14:04:18.988047",
     "exception": false,
     "start_time": "2025-05-08T14:04:18.983572",
     "status": "completed"
    },
    "tags": []
   },
   "source": [
    "# 6️⃣ 제출"
   ]
  },
  {
   "cell_type": "code",
   "execution_count": 11,
   "id": "2624eb1e",
   "metadata": {
    "execution": {
     "iopub.execute_input": "2025-05-08T14:04:18.999423Z",
     "iopub.status.busy": "2025-05-08T14:04:18.999064Z",
     "iopub.status.idle": "2025-05-08T14:04:25.622518Z",
     "shell.execute_reply": "2025-05-08T14:04:25.621773Z"
    },
    "papermill": {
     "duration": 6.631269,
     "end_time": "2025-05-08T14:04:25.624202",
     "exception": false,
     "start_time": "2025-05-08T14:04:18.992933",
     "status": "completed"
    },
    "tags": []
   },
   "outputs": [],
   "source": [
    "# hourly_pow 예측\n",
    "test_df['hourly_pow'] = model.predict(X_test)\n",
    "\n",
    "# 누적 전력량\n",
    "test_df['agg_pow'] = test_df['hourly_pow'].cumsum()\n",
    "\n",
    "# 요금 및 탄소배출량 계산\n",
    "test_df['may_bill'] = test_df['hourly_pow'] * 110         # 단가 110원/kWh\n",
    "test_df['may_carbon'] = test_df['hourly_pow'] * 0.424 "
   ]
  },
  {
   "cell_type": "code",
   "execution_count": 12,
   "id": "06921d25",
   "metadata": {
    "execution": {
     "iopub.execute_input": "2025-05-08T14:04:25.635130Z",
     "iopub.status.busy": "2025-05-08T14:04:25.634801Z",
     "iopub.status.idle": "2025-05-08T14:05:39.643989Z",
     "shell.execute_reply": "2025-05-08T14:05:39.643190Z"
    },
    "papermill": {
     "duration": 74.016508,
     "end_time": "2025-05-08T14:05:39.645678",
     "exception": false,
     "start_time": "2025-05-08T14:04:25.629170",
     "status": "completed"
    },
    "tags": []
   },
   "outputs": [],
   "source": [
    "# 샘플 제출 양식 불러오기\n",
    "submission = pd.read_csv(\"/kaggle/input/dku-data-science/sample_submission_final.csv\")\n",
    "\n",
    "# datetime을 id로 맞추기\n",
    "test_df['id'] = test_df['datetime'].dt.strftime('%Y-%m-%d %H:%M:%S')\n",
    "\n",
    "# 필요한 컬럼만 정리\n",
    "submission = test_df[['id', 'hourly_pow', 'agg_pow', 'may_bill', 'may_carbon']]\n",
    "\n",
    "# 저장\n",
    "submission.to_csv(\"/kaggle/working/submission.csv\", index=False)"
   ]
  },
  {
   "cell_type": "code",
   "execution_count": null,
   "id": "93b1154e",
   "metadata": {
    "papermill": {
     "duration": 0.004559,
     "end_time": "2025-05-08T14:05:39.655434",
     "exception": false,
     "start_time": "2025-05-08T14:05:39.650875",
     "status": "completed"
    },
    "tags": []
   },
   "outputs": [],
   "source": []
  }
 ],
 "metadata": {
  "kaggle": {
   "accelerator": "none",
   "dataSources": [
    {
     "databundleVersionId": 12204148,
     "sourceId": 99354,
     "sourceType": "competition"
    }
   ],
   "dockerImageVersionId": 31012,
   "isGpuEnabled": false,
   "isInternetEnabled": false,
   "language": "python",
   "sourceType": "notebook"
  },
  "kernelspec": {
   "display_name": "Python 3",
   "language": "python",
   "name": "python3"
  },
  "language_info": {
   "codemirror_mode": {
    "name": "ipython",
    "version": 3
   },
   "file_extension": ".py",
   "mimetype": "text/x-python",
   "name": "python",
   "nbconvert_exporter": "python",
   "pygments_lexer": "ipython3",
   "version": "3.11.11"
  },
  "papermill": {
   "default_parameters": {},
   "duration": 516.45951,
   "end_time": "2025-05-08T14:05:41.486173",
   "environment_variables": {},
   "exception": null,
   "input_path": "__notebook__.ipynb",
   "output_path": "__notebook__.ipynb",
   "parameters": {},
   "start_time": "2025-05-08T13:57:05.026663",
   "version": "2.6.0"
  }
 },
 "nbformat": 4,
 "nbformat_minor": 5
}
